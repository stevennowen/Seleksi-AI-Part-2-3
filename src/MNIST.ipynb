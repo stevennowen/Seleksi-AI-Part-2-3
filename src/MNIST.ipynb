{
 "cells": [
  {
   "cell_type": "code",
   "execution_count": 1,
   "id": "badf4528",
   "metadata": {},
   "outputs": [
    {
     "name": "stdout",
     "output_type": "stream",
     "text": [
      "WARNING:tensorflow:From c:\\Users\\Owen\\AppData\\Local\\Programs\\Python\\Python311\\Lib\\site-packages\\keras\\src\\losses.py:2976: The name tf.losses.sparse_softmax_cross_entropy is deprecated. Please use tf.compat.v1.losses.sparse_softmax_cross_entropy instead.\n",
      "\n"
     ]
    }
   ],
   "source": [
    "from MNIST import *\n",
    "from supervised_learning.LeNet import create_lenet_model, create_lenet_keras\n",
    "from supervised_learning.VggNet import create_vgg_model, create_vgg_keras"
   ]
  },
  {
   "cell_type": "code",
   "execution_count": 2,
   "id": "4c2dd4d7",
   "metadata": {},
   "outputs": [],
   "source": [
    "X_train, y_train, X_test, y_test = load_mnist_data()\n",
    "X_train_keras, y_train_keras, X_test_keras, y_test_keras = load_mnist_data_keras()"
   ]
  },
  {
   "cell_type": "markdown",
   "id": "db0ffbdd",
   "metadata": {},
   "source": [
    "## LeNet"
   ]
  },
  {
   "cell_type": "code",
   "execution_count": 3,
   "id": "8dda0470",
   "metadata": {},
   "outputs": [
    {
     "name": "stdout",
     "output_type": "stream",
     "text": [
      "WARNING:tensorflow:From c:\\Users\\Owen\\AppData\\Local\\Programs\\Python\\Python311\\Lib\\site-packages\\keras\\src\\backend.py:873: The name tf.get_default_graph is deprecated. Please use tf.compat.v1.get_default_graph instead.\n",
      "\n"
     ]
    }
   ],
   "source": [
    "lenet_keras = create_lenet_keras()\n",
    "lenet_model = create_lenet_model()"
   ]
  },
  {
   "cell_type": "code",
   "execution_count": 9,
   "id": "fd9bd042",
   "metadata": {},
   "outputs": [
    {
     "name": "stdout",
     "output_type": "stream",
     "text": [
      "\n",
      "=== Training Keras LeNet-5 (Keras) ===\n",
      "Epoch 1/10\n",
      "7/7 [==============================] - 1s 47ms/step - loss: 2.2968 - accuracy: 0.0988 - val_loss: 2.2926 - val_accuracy: 0.0950\n",
      "Epoch 2/10\n",
      "7/7 [==============================] - 0s 11ms/step - loss: 2.2824 - accuracy: 0.2037 - val_loss: 2.2780 - val_accuracy: 0.0950\n",
      "Epoch 3/10\n",
      "7/7 [==============================] - 0s 12ms/step - loss: 2.2766 - accuracy: 0.1262 - val_loss: 2.2794 - val_accuracy: 0.0900\n",
      "Epoch 4/10\n",
      "7/7 [==============================] - 0s 11ms/step - loss: 2.2673 - accuracy: 0.1388 - val_loss: 2.2731 - val_accuracy: 0.0900\n",
      "Epoch 5/10\n",
      "7/7 [==============================] - 0s 11ms/step - loss: 2.2518 - accuracy: 0.1238 - val_loss: 2.2445 - val_accuracy: 0.1500\n",
      "Epoch 6/10\n",
      "7/7 [==============================] - 0s 15ms/step - loss: 2.2318 - accuracy: 0.2763 - val_loss: 2.2187 - val_accuracy: 0.3850\n",
      "Epoch 7/10\n",
      "7/7 [==============================] - 0s 11ms/step - loss: 2.2065 - accuracy: 0.3100 - val_loss: 2.1981 - val_accuracy: 0.3650\n",
      "Epoch 8/10\n",
      "7/7 [==============================] - 0s 11ms/step - loss: 2.1651 - accuracy: 0.3413 - val_loss: 2.1744 - val_accuracy: 0.2450\n",
      "Epoch 9/10\n",
      "7/7 [==============================] - 0s 15ms/step - loss: 2.1119 - accuracy: 0.2950 - val_loss: 2.1080 - val_accuracy: 0.4450\n",
      "Epoch 10/10\n",
      "7/7 [==============================] - 0s 14ms/step - loss: 2.0483 - accuracy: 0.4613 - val_loss: 2.0498 - val_accuracy: 0.4850\n"
     ]
    }
   ],
   "source": [
    "# Train and validate Keras LeNet\n",
    "lenet_keras_train_loss, lenet_keras_val_loss, lenet_keras_accuracy = train_and_validate_keras_model(\n",
    "        lenet_keras, X_train_keras, y_train_keras, X_test_keras, y_test_keras, \"Keras LeNet-5\"\n",
    "    )"
   ]
  },
  {
   "cell_type": "code",
   "execution_count": 7,
   "id": "3a022f3d",
   "metadata": {},
   "outputs": [
    {
     "name": "stdout",
     "output_type": "stream",
     "text": [
      "Keras LeNet-5 Test Accuracy: 0.14000000059604645\n"
     ]
    }
   ],
   "source": [
    "print(f\"Keras LeNet-5 Test Accuracy: {lenet_keras_accuracy[1]}\")"
   ]
  },
  {
   "cell_type": "code",
   "execution_count": 10,
   "id": "fbe63c46",
   "metadata": {},
   "outputs": [
    {
     "name": "stdout",
     "output_type": "stream",
     "text": [
      "\n",
      "=== Training LeNet-5 ===\n",
      "Epoch 0, Train Loss: 2.5856, Val Loss: 2.3039\n",
      "Epoch 1, Train Loss: 2.5819, Val Loss: 2.3022\n",
      "Epoch 2, Train Loss: 2.5794, Val Loss: 2.3151\n",
      "Epoch 3, Train Loss: 2.5737, Val Loss: 2.3089\n",
      "Epoch 4, Train Loss: 2.5751, Val Loss: 2.3029\n",
      "Epoch 5, Train Loss: 2.5801, Val Loss: 2.3021\n",
      "Epoch 6, Train Loss: 2.5818, Val Loss: 2.3065\n",
      "Epoch 7, Train Loss: 2.5805, Val Loss: 2.3089\n",
      "Epoch 8, Train Loss: 2.5793, Val Loss: 2.3072\n",
      "Epoch 9, Train Loss: 2.5780, Val Loss: 2.3052\n"
     ]
    }
   ],
   "source": [
    "# Train and validate LeNet\n",
    "lenet_train_loss, lenet_val_loss, lenet_accuracy = train_and_validate_model(\n",
    "    lenet_model, X_train, y_train, X_test, y_test, \"LeNet-5\"\n",
    "    )"
   ]
  },
  {
   "cell_type": "code",
   "execution_count": 11,
   "id": "e6842fa4",
   "metadata": {},
   "outputs": [
    {
     "name": "stdout",
     "output_type": "stream",
     "text": [
      "LeNet-5 Test Accuracy: 0.1400\n"
     ]
    }
   ],
   "source": [
    "print(f\"LeNet-5 Test Accuracy: {lenet_accuracy:.4f}\")"
   ]
  },
  {
   "cell_type": "markdown",
   "id": "a4c701e4",
   "metadata": {},
   "source": [
    "# VggNet"
   ]
  },
  {
   "cell_type": "code",
   "execution_count": 12,
   "id": "6c6c29db",
   "metadata": {},
   "outputs": [
    {
     "name": "stdout",
     "output_type": "stream",
     "text": [
      "WARNING:tensorflow:From c:\\Users\\Owen\\AppData\\Local\\Programs\\Python\\Python311\\Lib\\site-packages\\keras\\src\\layers\\pooling\\max_pooling2d.py:161: The name tf.nn.max_pool is deprecated. Please use tf.nn.max_pool2d instead.\n",
      "\n"
     ]
    }
   ],
   "source": [
    "vgg_keras = create_vgg_keras()\n",
    "vgg_model = create_vgg_model()"
   ]
  },
  {
   "cell_type": "code",
   "execution_count": 17,
   "id": "4e074123",
   "metadata": {},
   "outputs": [
    {
     "name": "stdout",
     "output_type": "stream",
     "text": [
      "\n",
      "=== Training Keras VGG (Keras) ===\n",
      "Epoch 1/10\n",
      "7/7 [==============================] - 2s 145ms/step - loss: 0.3333 - accuracy: 0.9013 - val_loss: 0.3579 - val_accuracy: 0.8850\n",
      "Epoch 2/10\n",
      "7/7 [==============================] - 1s 110ms/step - loss: 0.1261 - accuracy: 0.9700 - val_loss: 0.2567 - val_accuracy: 0.9250\n",
      "Epoch 3/10\n",
      "7/7 [==============================] - 1s 126ms/step - loss: 0.0801 - accuracy: 0.9800 - val_loss: 0.3447 - val_accuracy: 0.9300\n",
      "Epoch 4/10\n",
      "7/7 [==============================] - 1s 111ms/step - loss: 0.0407 - accuracy: 0.9862 - val_loss: 0.2911 - val_accuracy: 0.9400\n",
      "Epoch 5/10\n",
      "7/7 [==============================] - 1s 108ms/step - loss: 0.0223 - accuracy: 0.9925 - val_loss: 0.2558 - val_accuracy: 0.9350\n",
      "Epoch 6/10\n",
      "7/7 [==============================] - 1s 109ms/step - loss: 0.0312 - accuracy: 0.9887 - val_loss: 0.3162 - val_accuracy: 0.9300\n",
      "Epoch 7/10\n",
      "7/7 [==============================] - 1s 113ms/step - loss: 0.0371 - accuracy: 0.9850 - val_loss: 0.2414 - val_accuracy: 0.9400\n",
      "Epoch 8/10\n",
      "7/7 [==============================] - 1s 109ms/step - loss: 0.0248 - accuracy: 0.9875 - val_loss: 0.2806 - val_accuracy: 0.9350\n",
      "Epoch 9/10\n",
      "7/7 [==============================] - 1s 108ms/step - loss: 0.0166 - accuracy: 0.9950 - val_loss: 0.3660 - val_accuracy: 0.9250\n",
      "Epoch 10/10\n",
      "7/7 [==============================] - 1s 109ms/step - loss: 0.0155 - accuracy: 0.9937 - val_loss: 0.2905 - val_accuracy: 0.9350\n"
     ]
    }
   ],
   "source": [
    "# Train and validate Keras VGG\n",
    "vgg_keras_train_loss, vgg_keras_val_loss, vgg_keras_accuracy = train_and_validate_keras_model(\n",
    "        vgg_keras, X_train_keras, y_train_keras, X_test_keras, y_test_keras, \"Keras VGG\"\n",
    "    )"
   ]
  },
  {
   "cell_type": "code",
   "execution_count": 18,
   "id": "af78522b",
   "metadata": {},
   "outputs": [
    {
     "name": "stdout",
     "output_type": "stream",
     "text": [
      "Keras VGG Test Accuracy: 0.949999988079071\n"
     ]
    }
   ],
   "source": [
    "print(f\"Keras VGG Test Accuracy: {vgg_keras_accuracy[1]}\")"
   ]
  },
  {
   "cell_type": "code",
   "execution_count": 15,
   "id": "ef8ee059",
   "metadata": {},
   "outputs": [
    {
     "name": "stdout",
     "output_type": "stream",
     "text": [
      "\n",
      "=== Training VGG ===\n",
      "Epoch 0, Train Loss: 2.5079, Val Loss: 2.4478\n",
      "Epoch 1, Train Loss: 2.5250, Val Loss: 2.0163\n",
      "Epoch 2, Train Loss: 1.9444, Val Loss: 1.2963\n",
      "Epoch 3, Train Loss: 1.1376, Val Loss: 1.1878\n",
      "Epoch 4, Train Loss: 0.7454, Val Loss: 0.5621\n",
      "Epoch 5, Train Loss: 0.4083, Val Loss: 0.5854\n",
      "Epoch 6, Train Loss: 0.2573, Val Loss: 0.6094\n",
      "Epoch 7, Train Loss: 0.1869, Val Loss: 0.4348\n",
      "Epoch 8, Train Loss: 0.1636, Val Loss: 0.3864\n",
      "Epoch 9, Train Loss: 0.1506, Val Loss: 0.4011\n"
     ]
    }
   ],
   "source": [
    "# Train and validate VGG\n",
    "vgg_train_loss, vgg_val_loss, vgg_accuracy = train_and_validate_model(\n",
    "        vgg_model, X_train, y_train, X_test, y_test, \"VGG\"\n",
    "    )"
   ]
  },
  {
   "cell_type": "code",
   "execution_count": 16,
   "id": "26d01e9b",
   "metadata": {},
   "outputs": [
    {
     "name": "stdout",
     "output_type": "stream",
     "text": [
      "VGG Test Accuracy: 0.9350\n"
     ]
    }
   ],
   "source": [
    "print(f\"VGG Test Accuracy: {vgg_accuracy:.4f}\")"
   ]
  }
 ],
 "metadata": {
  "kernelspec": {
   "display_name": "Python 3",
   "language": "python",
   "name": "python3"
  },
  "language_info": {
   "codemirror_mode": {
    "name": "ipython",
    "version": 3
   },
   "file_extension": ".py",
   "mimetype": "text/x-python",
   "name": "python",
   "nbconvert_exporter": "python",
   "pygments_lexer": "ipython3",
   "version": "3.11.5"
  }
 },
 "nbformat": 4,
 "nbformat_minor": 5
}
